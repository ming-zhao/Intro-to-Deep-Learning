{
 "cells": [
  {
   "cell_type": "code",
   "execution_count": 2,
   "metadata": {},
   "outputs": [],
   "source": [
    "import matplotlib.pyplot as plt\n",
    "import numpy as np\n",
    "import scipy.stats as stats\n",
    "%matplotlib inline"
   ]
  },
  {
   "cell_type": "markdown",
   "metadata": {},
   "source": [
    "Suppose we want to draw random samples from the posterior distribution $\\mathcal{N}(0,1)$ using slice sampling\n",
    "<ol>\n",
    "<li> start with some $z^{\\tau}$\n",
    "<li> sample $u$ uniformly from 0 to $f(z^{\\tau})$\n",
    "<li> create a slice $[z_{\\min}, z_{\\max}]$.\n",
    "<li> sample $z^{\\tau+1}$ uniformly in $[z_{\\min}, z_{\\max}]$.\n",
    "</ol>\n",
    "    \n",
    "Ideally, we expect to have $f(x) \\ge u$ $\\forall x \\in [z_{\\min}, z_{\\max}]$. So, a sample from $[z_{\\min}, z_{\\max}]$ increases the frequency of $z$ value with higher probability ($\\ge u$).\n",
    "\n",
    "We want to have an as large as possible interval $[z_{\\min}, z_{\\max}]$ (see adjustment of $[z_{\\min}, z_{\\max}]$ with $w$ in code) and $f(z^{\\tau+1}) \\ge u$ (see while True loop in code)."
   ]
  },
  {
   "cell_type": "code",
   "execution_count": 19,
   "metadata": {},
   "outputs": [
    {
     "data": {
      "image/png": "[encoded data removed]",
      "text/plain": [
       "<Figure size 432x288 with 1 Axes>"
      ]
     },
     "metadata": {},
     "output_type": "display_data"
    }
   ],
   "source": [
    "dist = stats.norm(5, 3)\n",
    "w = 0.5\n",
    "z = 0 #dist.rvs()\n",
    "\n",
    "niters = 1000\n",
    "samples = []\n",
    "while len(samples) < niters:\n",
    "    u = np.random.uniform(0, dist.pdf(z))\n",
    "    zmin = z\n",
    "    zmax = z\n",
    "    while u < dist.pdf(zmin):\n",
    "        zmin -= w\n",
    "    while u < dist.pdf(zmax):\n",
    "        zmax += w\n",
    "    \n",
    "    while True:\n",
    "        z = np.random.uniform(zmin, zmax)\n",
    "        if u > dist.pdf(z):\n",
    "            if np.abs(z-zmin) < np.abs(z-zmax):\n",
    "                zmin = z\n",
    "            else:\n",
    "                zmax = z\n",
    "        else:\n",
    "            samples.append(z)\n",
    "            break\n",
    "        \n",
    "plt.hist(samples, 40)\n",
    "plt.show()"
   ]
  }
 ],
 "metadata": {
  "kernelspec": {
   "display_name": "Python 3",
   "language": "python",
   "name": "python3"
  },
  "language_info": {
   "codemirror_mode": {
    "name": "ipython",
    "version": 3
   },
   "file_extension": ".py",
   "mimetype": "text/x-python",
   "name": "python",
   "nbconvert_exporter": "python",
   "pygments_lexer": "ipython3",
   "version": "3.6.4"
  }
 },
 "nbformat": 4,
 "nbformat_minor": 2
}
