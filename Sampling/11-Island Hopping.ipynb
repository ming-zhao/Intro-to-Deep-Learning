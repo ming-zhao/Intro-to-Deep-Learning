{
 "cells": [
  {
   "cell_type": "markdown",
   "metadata": {},
   "source": [
    "## Island Hopping\n",
    "\n",
    "A politician visiting a chain of islands to canvas support - being callow, the politician uses a simple rule to determine which island to visit next. \n",
    "\n",
    "- Each day, the politician chooses a neighboring island and compares the populations there with the population of the current island. \n",
    "- If the neighboring island has a larger population, the politician goes over. \n",
    "- If the neighboring island has a smaller population, then the politician visits with probability \\begin{equation} p=\\frac{p_{neighbor}}{p_{current}}; \\end{equation} otherwise the politician stays on the same island. \n",
    "\n",
    "After doing this for many days, the politician will end up spending time on each island proportional to the population of each island.\n",
    "\n",
    "In other words, estimating the distribution of island populations correctly. How a simple comparison of only two states at a time can lead to accurate estimation of a probability density?"
   ]
  },
  {
   "cell_type": "code",
   "execution_count": 1,
   "metadata": {},
   "outputs": [],
   "source": [
    "import numpy as np\n",
    "import seaborn as sns\n",
    "\n",
    "def make_islands(n, low=10, high=101):\n",
    "    islands = np.random.randint(low, high, n+2)\n",
    "    islands[0] = 0\n",
    "    islands[-1] = 0\n",
    "    return islands\n",
    "\n",
    "def hop(islands, start=1, niter=1000):\n",
    "    pos = start\n",
    "    pop = islands[pos]\n",
    "    thetas = np.zeros(niter+1, dtype='int')\n",
    "    thetas[0] = pos\n",
    "    for i in range(niter):\n",
    "        # generate sample from proposal distribution\n",
    "        k = np.random.choice([-1, 1], 1)\n",
    "        next_pos = pos + k\n",
    "        # evaluate unnormalized target distribution at proposed position\n",
    "        next_pop = islands[next_pos]\n",
    "        # calculate acceptance probability\n",
    "        p = min(1, next_pop/pop)\n",
    "        # use uniform random to decide accept/reject proposal\n",
    "        if np.random.random() < p:\n",
    "            pos = next_pos\n",
    "            pop = next_pop\n",
    "        thetas[i+1] = pos\n",
    "    return thetas\n",
    "\n",
    "islands = make_islands(10)\n",
    "thetas = hop(islands, start=1, niter=10000)"
   ]
  },
  {
   "cell_type": "code",
   "execution_count": 2,
   "metadata": {
    "scrolled": true
   },
   "outputs": [
    {
     "data": {
      "image/png": "[encoded data removed]",
      "text/plain": [
       "<Figure size 432x288 with 1 Axes>"
      ]
     },
     "metadata": {
      "needs_background": "light"
     },
     "output_type": "display_data"
    }
   ],
   "source": [
    "# True population proportions\n",
    "data = islands[1:-1]\n",
    "data = data/data.sum()\n",
    "sns.barplot(x=np.arange(len(data)), y=data)\n",
    "pass"
   ]
  },
  {
   "cell_type": "code",
   "execution_count": 3,
   "metadata": {},
   "outputs": [
    {
     "data": {
      "image/png": "[encoded data removed]",
      "text/plain": [
       "<Figure size 432x288 with 1 Axes>"
      ]
     },
     "metadata": {
      "needs_background": "light"
     },
     "output_type": "display_data"
    }
   ],
   "source": [
    "# Estimated population proportions\n",
    "data = np.bincount(thetas)[1:]\n",
    "data = data/data.sum()\n",
    "sns.barplot(x=np.arange(len(data)), y=data)\n",
    "pass"
   ]
  },
  {
   "cell_type": "code",
   "execution_count": 4,
   "metadata": {},
   "outputs": [
    {
     "data": {
      "image/png": "[encoded data removed]",
      "text/plain": [
       "<Figure size 432x288 with 1 Axes>"
      ]
     },
     "metadata": {
      "needs_background": "light"
     },
     "output_type": "display_data"
    }
   ],
   "source": [
    "# Generic Metropolis scheme\n",
    "def metroplis(start, target, proposal, niter, nburn=0):\n",
    "    current = start\n",
    "    post = [current]\n",
    "    for i in range(niter):\n",
    "        proposed = proposal(current)\n",
    "        p = min(target(proposed)/target(current), 1)\n",
    "        if np.random.random() < p:\n",
    "            current = proposed\n",
    "        post.append(current)\n",
    "    return post[nburn:]\n",
    "\n",
    "target = lambda x: islands[x]\n",
    "proposal = lambda x: x + np.random.choice([-1, 1])\n",
    "post = metroplis(1, target, proposal, 2000)\n",
    "data = np.bincount(post)[1:]\n",
    "data = data/data.sum()\n",
    "sns.barplot(x=np.arange(len(data)), y=data)\n",
    "pass"
   ]
  }
 ],
 "metadata": {
  "kernelspec": {
   "display_name": "Python 3",
   "language": "python",
   "name": "python3"
  },
  "language_info": {
   "codemirror_mode": {
    "name": "ipython",
    "version": 3
   },
   "file_extension": ".py",
   "mimetype": "text/x-python",
   "name": "python",
   "nbconvert_exporter": "python",
   "pygments_lexer": "ipython3",
   "version": "3.7.0"
  }
 },
 "nbformat": 4,
 "nbformat_minor": 2
}
