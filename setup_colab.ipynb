{
  "nbformat": 4,
  "nbformat_minor": 0,
  "metadata": {
    "colab": {
      "name": "setup_colab.ipynb",
      "version": "0.3.2",
      "provenance": [],
      "collapsed_sections": [],
      "include_colab_link": true
    },
    "kernelspec": {
      "display_name": "Python 3",
      "language": "python",
      "name": "python3"
    }
  },
  "cells": [
    {
      "cell_type": "markdown",
      "metadata": {
        "id": "view-in-github",
        "colab_type": "text"
      },
      "source": [
        "<a href=\"https://colab.research.google.com/github/ming-zhao/Intro-to-Deep-Learning/blob/master/setup_colab.ipynb\" target=\"_parent\"><img src=\"https://colab.research.google.com/assets/colab-badge.svg\" alt=\"Open In Colab\"/></a>"
      ]
    },
    {
      "metadata": {
        "id": "__PAyFlgL7rz",
        "colab_type": "code",
        "colab": {}
      },
      "cell_type": "code",
      "source": [
        "import os\n",
        "if not os.path.isfile(\"setup.py\"):\n",
        "  os.system(\"wget https://raw.githubusercontent.com/ming-zhao/Intro-to-Deep-Learning/master/setup.py -q -o /dev/null\")\n",
        "exec(open('setup.py').read())"
      ],
      "execution_count": 0,
      "outputs": []
    },
    {
      "metadata": {
        "id": "zPCeISEsNlZQ",
        "colab_type": "code",
        "outputId": "f0ba919d-c5da-46f0-c2b0-ef223561f782",
        "colab": {
          "base_uri": "https://localhost:8080/",
          "height": 102
        }
      },
      "cell_type": "code",
      "source": [
        "!ls /Modules/DesignMat\n",
        "!ls /Modules/Classifier\n",
        "!ls /Modules/Regressor\n",
        "!ls /Modules/Kernel"
      ],
      "execution_count": 0,
      "outputs": [
        {
          "output_type": "stream",
          "text": [
            "Gaussian.py  __init__.py  Polynomial.py  Sigmoidal.py\n",
            "Classifier.py  __init__.py  LeastSquares.py  Logistic.py\n",
            "Bayesian.py  Empirical.py  __init__.py\tLeastSquares.py  Regressor.py\n",
            "GaussianProcessClassifier.py  __init__.py  RBF.py\n",
            "GaussianProcessRegressor.py   Kernel.py    SupportVectorClassifier.py\n"
          ],
          "name": "stdout"
        }
      ]
    },
    {
      "metadata": {
        "id": "xbl8WGZbyzfc",
        "colab_type": "code",
        "outputId": "a56e6fe6-287f-4922-8249-2f2b8dcba792",
        "colab": {
          "base_uri": "https://localhost:8080/",
          "height": 34
        }
      },
      "cell_type": "code",
      "source": [
        "!rm -R /Modules\n",
        "!rm setup.py"
      ],
      "execution_count": 0,
      "outputs": [
        {
          "output_type": "stream",
          "text": [
            "rm: cannot remove '/Modules': No such file or directory\n"
          ],
          "name": "stdout"
        }
      ]
    }
  ]
}