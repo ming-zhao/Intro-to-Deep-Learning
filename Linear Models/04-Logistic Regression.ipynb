{
 "cells": [
  {
   "cell_type": "code",
   "execution_count": 1,
   "metadata": {},
   "outputs": [
    {
     "name": "stdout",
     "output_type": "stream",
     "text": [
      "(70000, 784)\n",
      "(70000,)\n"
     ]
    }
   ],
   "source": [
    "# fetch_mldata is DEPRECATED. Updated method if Colab updates sklearn\n",
    "# # # # # # # # # # # # # # # # # # # # # # # # # # # # # # # # # # # #\n",
    "# from sklearn.datasets import fetch_openml\n",
    "# Load data from https://www.openml.org/d/554\n",
    "# X, y = fetch_openml('mnist_784', version=1, return_X_y=True)\n",
    "# print(X.shape)\n",
    "# print(y.shape)\n",
    "\n",
    "from sklearn.datasets import fetch_mldata\n",
    "mnist = fetch_mldata('MNIST original')\n",
    "\n",
    "print(mnist.data.shape)\n",
    "print(mnist.target.shape)"
   ]
  },
  {
   "cell_type": "code",
   "execution_count": 2,
   "metadata": {
    "colab": {
     "base_uri": "https://localhost:8080/",
     "height": 574
    },
    "colab_type": "code",
    "executionInfo": {
     "elapsed": 99915,
     "status": "ok",
     "timestamp": 1538281537109,
     "user": {
      "displayName": "Ming Zhao",
      "photoUrl": "",
      "userId": "06292157424562027321"
     },
     "user_tz": 0
    },
    "id": "Kl4EDUV7lNLH",
    "outputId": "aaf01b6e-303e-436f-cc95-9951050a173b"
   },
   "outputs": [
    {
     "name": "stdout",
     "output_type": "stream",
     "text": [
      "0.9134\n"
     ]
    }
   ],
   "source": [
    "import numpy as np\n",
    "import matplotlib.pyplot as plt\n",
    "from sklearn.model_selection import train_test_split\n",
    "from sklearn.linear_model import LogisticRegression\n",
    "\n",
    "train_img, test_img, train_lbl, test_lbl = train_test_split(mnist.data, mnist.target, test_size=1/7.0, random_state=0)\n",
    "\n",
    "plt.figure(figsize=(20,4))\n",
    "for index, (image, label) in enumerate(zip(train_img[0:5], train_lbl[0:5])):\n",
    "    plt.subplot(1, 5, index + 1)\n",
    "    plt.imshow(np.reshape(image, (28,28)), cmap=plt.cm.gray)\n",
    "    plt.title('Training: %i\\n' % label, fontsize = 20)\n",
    "\n",
    "logisticRegr = LogisticRegression(solver = 'lbfgs')\n",
    "logisticRegr.fit(train_img, train_lbl)\n",
    "# Predict for One Observation (image)\n",
    "logisticRegr.predict(test_img[0].reshape(1,-1))\n",
    "\n",
    "logisticRegr.predict(test_img[0:10])\n",
    "predictions = logisticRegr.predict(test_img)\n",
    "\n",
    "score = logisticRegr.score(test_img, test_lbl)\n",
    "print(score)\n",
    "\n",
    "index = 0\n",
    "misclassifiedIndexes = []\n",
    "for label, predict in zip(test_lbl, predictions):\n",
    "    if label != predict: \n",
    "        misclassifiedIndexes.append(index)\n",
    "    index +=1\n",
    "\n",
    "plt.figure(figsize=(20,4))\n",
    "for plotIndex, badIndex in enumerate(misclassifiedIndexes[0:5]):\n",
    "    plt.subplot(1, 5, plotIndex + 1)\n",
    "    plt.imshow(np.reshape(test_img[badIndex], (28,28)), cmap=plt.cm.gray)\n",
    "    plt.title('Predicted: {}, Actual: {}'.format(predictions[badIndex], test_lbl[badIndex]), fontsize = 15)   \n"
   ]
  },
  {
   "cell_type": "code",
   "execution_count": 5,
   "metadata": {
    "colab": {
     "base_uri": "https://localhost:8080/",
     "height": 398
    },
    "colab_type": "code",
    "executionInfo": {
     "elapsed": 510,
     "status": "ok",
     "timestamp": 1538282949948,
     "user": {
      "displayName": "Ming Zhao",
      "photoUrl": "",
      "userId": "06292157424562027321"
     },
     "user_tz": 0
    },
    "id": "3GoOd60ntSem",
    "outputId": "323f3277-8f2f-4096-b780-8dbc951c218d"
   },
   "outputs": [
    {
     "name": "stdout",
     "output_type": "stream",
     "text": [
      "MNIST has 70000 images and each image is in a 28x28=784 field\n",
      "Logistic Regression fails on 866 images\n"
     ]
    }
   ],
   "source": [
    "print('MNIST has {} images and each image is in a 28x28={} field'.format(mnist.data.shape[0], mnist.data.shape[1]))\n",
    "print('Logistic Regression fails on {} images'.format(len(misclassifiedIndexes)))\n",
    "# plt.hist(mnist.target, bins=np.arange(mnist.target.min(), mnist.target.max()+1), density=True, facecolor='g', alpha=0.75)\n",
    "# import seaborn as sns\n",
    "# sns.distplot(mnist.target, kde=False)"
   ]
  },
  {
   "cell_type": "code",
   "execution_count": 4,
   "metadata": {
    "colab": {
     "base_uri": "https://localhost:8080/",
     "height": 444
    },
    "colab_type": "code",
    "executionInfo": {
     "elapsed": 1562,
     "status": "ok",
     "timestamp": 1538282506264,
     "user": {
      "displayName": "Ming Zhao",
      "photoUrl": "",
      "userId": "06292157424562027321"
     },
     "user_tz": 0
    },
    "id": "m3dmO5uNqqNP",
    "outputId": "e94320cc-eace-489f-bf6d-301f860ba8f5"
   },
   "outputs": [
    {
     "data": {
      "image/png": "[encoded data removed]",
      "text/plain": [
       "<Figure size 1080x576 with 10 Axes>"
      ]
     },
     "metadata": {},
     "output_type": "display_data"
    }
   ],
   "source": [
    "plt.figure(figsize=(15, 8))\n",
    "for i in range(10):\n",
    "    plt.subplot(2, 5, i+1)\n",
    "    for idx, val in enumerate(mnist.target):\n",
    "        if val == i:\n",
    "            plt.imshow(np.reshape(mnist.data[idx], (28,28)), cmap=plt.cm.gray)\n",
    "            plt.title('target:{} index:{}'.format(mnist.target[idx], idx))\n",
    "            break"
   ]
  }
 ],
 "metadata": {
  "colab": {
   "collapsed_sections": [],
   "name": "04.04-Logistic Regression.ipynb",
   "provenance": [],
   "version": "0.3.2"
  },
  "kernelspec": {
   "display_name": "Python 3",
   "language": "python",
   "name": "python3"
  },
  "language_info": {
   "codemirror_mode": {
    "name": "ipython",
    "version": 3
   },
   "file_extension": ".py",
   "mimetype": "text/x-python",
   "name": "python",
   "nbconvert_exporter": "python",
   "pygments_lexer": "ipython3",
   "version": "3.7.0"
  }
 },
 "nbformat": 4,
 "nbformat_minor": 1
}
