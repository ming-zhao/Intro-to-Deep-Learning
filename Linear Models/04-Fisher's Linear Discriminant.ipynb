{
 "cells": [
  {
   "cell_type": "code",
   "execution_count": 1,
   "metadata": {},
   "outputs": [
    {
     "data": {
      "image/png": "[encoded data removed]",
      "text/plain": [
       "<Figure size 432x288 with 1 Axes>"
      ]
     },
     "metadata": {
      "needs_background": "light"
     },
     "output_type": "display_data"
    }
   ],
   "source": [
    "import numpy as np\n",
    "import matplotlib.pyplot as plt\n",
    "%matplotlib inline\n",
    "\n",
    "np.random.seed(1234)\n",
    "x0 = np.random.normal(size=50).reshape(-1, 2) - 1\n",
    "x1 = np.random.normal(size=50).reshape(-1, 2) + 1\n",
    "\n",
    "x_train, t_train = (np.concatenate([x0, x1]), np.concatenate([np.zeros(25), np.ones(25)]).astype(np.int))\n",
    "x1_test, x2_test = np.meshgrid(np.linspace(-5, 5, 100), np.linspace(-5, 5, 100))\n",
    "x_test = np.array([x1_test, x2_test]).reshape(2, -1).T\n",
    "\n",
    "X0 = x_train[t_train == 0]\n",
    "X1 = x_train[t_train == 1]\n",
    "m0 = np.mean(X0, axis=0)\n",
    "m1 = np.mean(X1, axis=0)\n",
    "cov_inclass = (X0 - m0).T @ (X0 - m0) + (X1 - m1).T @ (X1 - m1)\n",
    "w = np.linalg.solve(cov_inclass, m1 - m0)\n",
    "w /= np.linalg.norm(w).clip(min=1e-10)\n",
    "\n",
    "mu0 = np.mean(X0 @ w, axis=0)\n",
    "mu1 = np.mean(X1 @ w, axis=0)\n",
    "var0 = np.var(X0 @ w, axis=0)\n",
    "var1 = np.var(X1 @ w, axis=0)\n",
    "a = var1 - var0\n",
    "b = var0 * mu1 - var1 * mu0\n",
    "c = var1 * mu0 ** 2 - var0 * mu1 ** 2 - var1 * var0 * np.log(var1 / var0)\n",
    "threshold = (np.sqrt(b ** 2 - a * c) - b) / a\n",
    "\n",
    "t = (x_test @ w > threshold).astype(np.int)\n",
    "\n",
    "plt.scatter(x_train[:, 0], x_train[:, 1], c=t_train)\n",
    "plt.contourf(x1_test, x2_test, t.reshape(100, 100), alpha=0.2, levels=np.linspace(0, 1, 3))\n",
    "plt.xlim(-5, 5)\n",
    "plt.ylim(-5, 5)\n",
    "plt.gca().set_aspect('equal', adjustable='box')\n",
    "plt.show()"
   ]
  }
 ],
 "metadata": {
  "kernelspec": {
   "display_name": "Python 3",
   "language": "python",
   "name": "python3"
  },
  "language_info": {
   "codemirror_mode": {
    "name": "ipython",
    "version": 3
   },
   "file_extension": ".py",
   "mimetype": "text/x-python",
   "name": "python",
   "nbconvert_exporter": "python",
   "pygments_lexer": "ipython3",
   "version": "3.7.0"
  }
 },
 "nbformat": 4,
 "nbformat_minor": 2
}
