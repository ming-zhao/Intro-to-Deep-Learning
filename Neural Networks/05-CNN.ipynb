{
 "cells": [
  {
   "cell_type": "code",
   "execution_count": 1,
   "metadata": {},
   "outputs": [],
   "source": [
    "import sys\n",
    "sys.path.append('../Modules')\n",
    "\n",
    "import numpy as np\n",
    "import matplotlib.pyplot as plt\n",
    "import scipy.stats as st\n",
    "%matplotlib inline\n",
    "import NeuralNet as nn\n",
    "\n",
    "from sklearn.datasets import fetch_openml\n",
    "from sklearn.model_selection import train_test_split\n",
    "from sklearn.preprocessing import LabelBinarizer\n",
    "from sklearn.metrics import accuracy_score\n",
    "\n",
    "x, label = fetch_openml('mnist_784', version=1, return_X_y=True)\n",
    "x = x / np.max(x, axis=1, keepdims=True)\n",
    "x = x.reshape(-1, 28, 28, 1)\n",
    "x_train, x_test, label_train, label_test = train_test_split(x, label, test_size=0.1)\n",
    "y_train = LabelBinarizer().fit_transform(label_train)"
   ]
  },
  {
   "cell_type": "code",
   "execution_count": 2,
   "metadata": {},
   "outputs": [
    {
     "name": "stdout",
     "output_type": "stream",
     "text": [
      "step 0000, accuracy 0.12, Log Likelihood -144.249\n",
      "step 0100, accuracy 0.92, Log Likelihood -15.8367\n",
      "step 0200, accuracy 0.92, Log Likelihood -14.7236\n",
      "step 0300, accuracy 0.98, Log Likelihood -2.44036\n",
      "step 0400, accuracy 0.98, Log Likelihood -3.99714\n",
      "step 0500, accuracy 0.94, Log Likelihood -5.68415\n",
      "step 0600, accuracy 1.00, Log Likelihood -0.457031\n",
      "step 0700, accuracy 0.98, Log Likelihood -5.73995\n",
      "step 0800, accuracy 0.98, Log Likelihood -10.6341\n",
      "step 0900, accuracy 0.98, Log Likelihood -1.96297\n",
      "accuracy (test): 0.98\n"
     ]
    }
   ],
   "source": [
    "class ConvolutionalNeuralNetwork(nn.Network):\n",
    "    \n",
    "    def __init__(self):\n",
    "        truncnorm = st.truncnorm(a=-2, b=2, scale=0.1)\n",
    "        super().__init__(\n",
    "            w1=truncnorm.rvs((5, 5, 1, 20)),\n",
    "            b1=np.zeros(20) + 0.1,\n",
    "            w2=truncnorm.rvs((5, 5, 20, 20)),\n",
    "            b2=np.zeros(20) + 0.1,\n",
    "            w3=truncnorm.rvs((4 * 4 * 20, 500)),\n",
    "            b3=np.zeros(500) + 0.1,\n",
    "            w4=truncnorm.rvs((500, 10)),\n",
    "            b4=np.zeros(10) + 0.1\n",
    "        )\n",
    "        \n",
    "    def __call__(self, x, y=None):\n",
    "        h = nn.relu(nn.convolve2d(x, self.w1) + self.b1)\n",
    "        h = nn.max_pooling2d(h, (2, 2), (2, 2))\n",
    "        \n",
    "        h = nn.relu(nn.convolve2d(h, self.w2) + self.b2)\n",
    "        h = nn.max_pooling2d(h, (2, 2), (2, 2))\n",
    "        \n",
    "        h = h.reshape(-1, 4 * 4 * 20)\n",
    "        h = nn.relu(h @ self.w3 + self.b3)\n",
    "        \n",
    "        self.py = nn.random.Categorical(logit=h @ self.w4 + self.b4, data=y)\n",
    "        return self.py.mu.value\n",
    "\n",
    "model = ConvolutionalNeuralNetwork()\n",
    "optimizer = nn.optimizer.Adam(model, 1e-3)\n",
    "\n",
    "while True:\n",
    "    indices = np.random.permutation(len(x_train))\n",
    "    for index in range(0, len(x_train), 50):\n",
    "        model.clear()\n",
    "        x_batch = x_train[indices[index: index + 50]]\n",
    "        y_batch = y_train[indices[index: index + 50]]\n",
    "        prob = model(x_batch, y_batch)\n",
    "        log_likelihood = model.log_pdf()\n",
    "        if optimizer.n_iter % 100 == 0:\n",
    "            accuracy = accuracy_score(\n",
    "                np.argmax(y_batch, axis=-1), np.argmax(prob, axis=-1)\n",
    "            )\n",
    "            print(\"step {:04d}\".format(optimizer.n_iter), end=\", \")\n",
    "            print(\"accuracy {:.2f}\".format(accuracy), end=\", \")\n",
    "            print(\"Log Likelihood {:g}\".format(log_likelihood.value))\n",
    "        log_likelihood.backward()\n",
    "        optimizer.update()\n",
    "        if optimizer.n_iter == 1000:\n",
    "            break\n",
    "    else:\n",
    "        continue\n",
    "    break\n",
    "    \n",
    "label_pred = []\n",
    "for i in range(0, len(x_test), 50):\n",
    "    label_pred.append(np.argmax(model(x_test[i: i + 50]), axis=-1))\n",
    "label_pred = np.asarray(label_pred).ravel()\n",
    "print(\"accuracy (test):\", accuracy_score(np.array(list(map(int,label_test))), label_pred))"
   ]
  }
 ],
 "metadata": {
  "kernelspec": {
   "display_name": "Python 3",
   "language": "python",
   "name": "python3"
  },
  "language_info": {
   "codemirror_mode": {
    "name": "ipython",
    "version": 3
   },
   "file_extension": ".py",
   "mimetype": "text/x-python",
   "name": "python",
   "nbconvert_exporter": "python",
   "pygments_lexer": "ipython3",
   "version": "3.6.7"
  }
 },
 "nbformat": 4,
 "nbformat_minor": 2
}
