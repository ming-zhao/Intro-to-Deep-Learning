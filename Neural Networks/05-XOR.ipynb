{
 "cells": [
  {
   "cell_type": "markdown",
   "metadata": {},
   "source": [
    "# Neural Networks"
   ]
  },
  {
   "cell_type": "code",
   "execution_count": 1,
   "metadata": {},
   "outputs": [],
   "source": [
    "import sys\n",
    "sys.path.append('../Modules')\n",
    "\n",
    "import numpy as np\n",
    "import tensorflow as tf\n",
    "import matplotlib.pyplot as plt\n",
    "%matplotlib inline\n",
    "\n",
    "from DesignMat import Polynomial\n",
    "from Regressor import LeastSquares\n",
    "\n",
    "np.random.seed(123)"
   ]
  },
  {
   "cell_type": "markdown",
   "metadata": {},
   "source": [
    "## Learning XOR"
   ]
  },
  {
   "cell_type": "code",
   "execution_count": 2,
   "metadata": {},
   "outputs": [
    {
     "data": {
      "image/png": "[encoded data removed]",
      "text/plain": [
       "<Figure size 360x288 with 2 Axes>"
      ]
     },
     "metadata": {
      "needs_background": "light"
     },
     "output_type": "display_data"
    }
   ],
   "source": [
    "x_train = np.array([[0, 0],\n",
    "              [0, 1],\n",
    "              [1, 0],\n",
    "              [1, 1]])\n",
    "t_train = np.array([0, 1, 1, 0])\n",
    "\n",
    "x0, x1 = np.meshgrid(np.linspace(0, 1, 100), np.linspace(0, 1, 100))\n",
    "x_test = np.array([x0, x1]).reshape(2, -1).T\n",
    "\n",
    "phi_train = Polynomial(1).dm(x_train)\n",
    "phi_test  = Polynomial(1).dm(x_test)\n",
    "\n",
    "t = LeastSquares().fit(phi_train, t_train).predict(phi_test)\n",
    "\n",
    "plt.figure(figsize=(5, 4))\n",
    "plt.scatter(x_train[:, 0], x_train[:, 1], c=t_train)\n",
    "\n",
    "levels = np.linspace(0, 1, 5)\n",
    "plt.contourf(x0, x1, np.asarray(t).reshape(100, 100), levels, alpha=0.2)\n",
    "plt.colorbar()\n",
    "plt.show()"
   ]
  },
  {
   "cell_type": "markdown",
   "metadata": {},
   "source": [
    "We have\n",
    "\n",
    "- input\n",
    "\n",
    "\\begin{align}\n",
    "\\mathbf{x} = \\left( \\begin{array}{l}\n",
    "0 \\\\\n",
    "0 \\\\\n",
    "1 \\\\\n",
    "\\end{array} \\right) \\text{ or }\n",
    "\\left( \\begin{array}{l}\n",
    "0 \\\\\n",
    "1 \\\\\n",
    "1 \\\\\n",
    "\\end{array} \\right) \\text{ or }\n",
    "\\left( \\begin{array}{l}\n",
    "1 \\\\\n",
    "0 \\\\\n",
    "1 \\\\\n",
    "\\end{array} \\right) \\text{ or }\n",
    "\\left( \\begin{array}{l}\n",
    "1 \\\\\n",
    "1 \\\\\n",
    "1 \\\\\n",
    "\\end{array} \\right)\n",
    "\\end{align}\n",
    "\n",
    "- hidden layer\n",
    "\n",
    "\\begin{align}\n",
    "a^1_{j} = {\\mathbf{w}^1_j}^T \\mathbf{x} \\text{, } \\mathbf{a}^1 = (a^1_{j} :\\forall j)^T \\text{ and } z_{j} = h(a^1_{j}) \\text{, } \\mathbf{z} = (z_{j}: \\forall j)^T\n",
    "\\end{align}\n",
    "\n",
    "- output\n",
    "\n",
    "\\begin{align}\n",
    "a^2_{k} = {\\mathbf{w}^2_{k}}^T \\mathbf{z} \\text{ and } y = y_k = h(a^2_{k})\n",
    "\\end{align}\n",
    "\n",
    "Note that, in our case, $k = \\{1\\}$."
   ]
  },
  {
   "cell_type": "markdown",
   "metadata": {},
   "source": [
    "<b> Feed-Forward </b>\n",
    "\n",
    "To apply stochastic gradient decent, we consider one instance and its error function\n",
    "\n",
    "\\begin{align}\n",
    "E_i = \\frac{1}{2} \\left( y - t \\right)^2\n",
    "\\end{align}\n",
    "\n",
    "\\begin{align}\n",
    "\\mathbf{z} = h\\left({\\mathbf{W}^1}^T \\mathbf{x} \\right) \\text{ and } y = h\\left({\\mathbf{w}^2}^T \\mathbf{z}\\right)\n",
    "\\end{align}\n",
    "\n",
    "where\n",
    "\n",
    "\\begin{align}\n",
    "\\mathbf{W}^{1} = (\\mathbf{w}^1_{j} : \\forall j)\n",
    "\\end{align}"
   ]
  },
  {
   "cell_type": "markdown",
   "metadata": {},
   "source": [
    "<b> Derivatives </b>\n",
    "\n",
    "\\begin{align}\n",
    "\\sigma^\\prime(x) &= \\sigma(x) (1- \\sigma(x)) \\\\\n",
    "\\tanh^\\prime(x) &= 1 -\\tanh^2(x)\n",
    "\\end{align}\n",
    "\n",
    "Assume $h = \\tanh$"
   ]
  },
  {
   "cell_type": "markdown",
   "metadata": {},
   "source": [
    "<b> Error Backpropagation </b>\n",
    "\n",
    "\\begin{align}\n",
    "\\delta^2_{k} &\\equiv \\frac{\\partial E_i}{\\partial a^2_k} = \\frac{\\partial E_i}{\\partial y} \\frac{\\partial y}{\\partial a^2_k} = (y-t) h^\\prime(a^2_k) = (y-t) (1- h^2(a^2_k)) = (y-t) (1- y^2) \\\\\n",
    "\\delta^1_{j} &\\equiv \\frac{\\partial E_i}{\\partial a^1_{j}} = \\sum_k \\frac{\\partial E_i}{\\partial a^2_{k}} \\frac{\\partial a^2_{k}}{\\partial z_j} \\frac{\\partial z_j}{\\partial a^1_{j}} = h^\\prime(a^1_{j}) \\sum_{k} \\delta^2_{k} w^2_{k,j} = (1-z_j^2) \\sum_{k} \\delta^2_{k} w^2_{k,j}\n",
    "\\end{align}\n",
    "\n",
    "\\begin{align}\n",
    "\\frac{\\partial E_i}{\\partial \\mathbf{w}^2_k} & = \\frac{\\partial E_i}{\\partial a^2_k} \\frac{\\partial a^2_k}{\\partial \\mathbf{w}^2_k} = \\delta^2_{k} \\mathbf{z} \\\\\n",
    "\\frac{\\partial E_i}{\\partial \\mathbf{w}^1_j} & = \\frac{\\partial E_i}{\\partial a^1_j} \\frac{\\partial a^1_j}{\\partial \\mathbf{w}^1_j} = \\delta^1_{j} \\mathbf{x}\n",
    "\\end{align}"
   ]
  },
  {
   "cell_type": "code",
   "execution_count": 3,
   "metadata": {
    "scrolled": false
   },
   "outputs": [
    {
     "name": "stdout",
     "output_type": "stream",
     "text": [
      "epochs:0, error=[-0.5336806]\n",
      "epochs:10000, error=[0.00023887]\n",
      "epochs:20000, error=[0.00011636]\n",
      "epochs:30000, error=[-0.00645277]\n",
      "epochs:40000, error=[-0.00559666]\n",
      "epochs:50000, error=[1.13629266e-05]\n",
      "epochs:60000, error=[1.25894388e-06]\n",
      "epochs:70000, error=[-0.00414332]\n",
      "epochs:80000, error=[-0.00385302]\n",
      "epochs:90000, error=[-0.00361445]\n",
      "[[0.         0.         0.00004721]\n",
      " [0.         1.         0.99666866]\n",
      " [1.         0.         0.99658079]\n",
      " [1.         1.         0.00004328]]\n"
     ]
    },
    {
     "data": {
      "image/png": "[encoded data removed]",
      "text/plain": [
       "<Figure size 360x288 with 2 Axes>"
      ]
     },
     "metadata": {
      "needs_background": "light"
     },
     "output_type": "display_data"
    }
   ],
   "source": [
    "import numpy as np\n",
    "\n",
    "def sigmoid(x):\n",
    "    return 1.0/(1.0 + np.exp(-x))\n",
    "\n",
    "def sigmoid_prime(x):\n",
    "    return x*(1.0-x)\n",
    "\n",
    "def tanh(x):\n",
    "    return np.tanh(x)\n",
    "\n",
    "def tanh_prime(x):\n",
    "    return 1.0 - x**2\n",
    "\n",
    "class NeuralNetwork:\n",
    "    def __init__(self, layers, activation='tanh'):\n",
    "        if activation == 'sigmoid':\n",
    "            self.activation = sigmoid\n",
    "            self.activation_prime = sigmoid_prime\n",
    "        elif activation == 'tanh':\n",
    "            self.activation = tanh\n",
    "            self.activation_prime = tanh_prime\n",
    "        \n",
    "        # Set weights\n",
    "        self.weights = []\n",
    "        # layers = [2,2,1]\n",
    "        # range of weight values (-1,1)\n",
    "        # input and hidden layers - random((2+1, 2+1)) : 3 x 3\n",
    "        for i in range(1, len(layers) - 1):\n",
    "            r = 2*np.random.random((layers[i-1] + 1, layers[i] + 1)) -1\n",
    "            self.weights.append(r)\n",
    "        # output layer - random((2+1, 1)) : 3 x 1\n",
    "        r = 2*np.random.random( (layers[i] + 1, layers[i+1])) - 1\n",
    "        self.weights.append(r)\n",
    "\n",
    "    def fit(self, X, t, learning_rate=0.2, epochs=100000):\n",
    "        ones = np.atleast_2d(np.ones(X.shape[0]))\n",
    "        X = np.concatenate((ones.T, X), axis=1)\n",
    "        # Add the bias unit to the input layer X, so that\n",
    "        # X = [[1. 0. 0.]\n",
    "        #      [1. 0. 1.]\n",
    "        #      [1. 1. 0.]\n",
    "        #      [1. 1. 1.]]\n",
    "         \n",
    "        for k in range(epochs):\n",
    "            i = np.random.randint(X.shape[0])\n",
    "            z = [X[i]]\n",
    "            \n",
    "            for l in range(len(self.weights)):\n",
    "                z.append(self.activation(np.array(self.weights[l]).T @ np.array(z[l])))\n",
    "\n",
    "            # backpropagation\n",
    "            # output layer y = z[-1]\n",
    "            error = z[-1] - t[i]\n",
    "            deltas = [error * self.activation_prime(z[-1])]\n",
    "            for l in range(len(self.weights) - 1, 0, -1): \n",
    "                deltas.append(np.dot(self.weights[l], deltas[-1]) * self.activation_prime(z[l]))\n",
    "            deltas.reverse()\n",
    "\n",
    "            for i in range(len(self.weights)):\n",
    "                self.weights[i] -= learning_rate * np.array(z[i])[:,None].dot(np.array(deltas[i])[:,None].T)\n",
    "\n",
    "            if k % 10000 == 0: print('epochs:{}, error={}'.format(k, error))\n",
    "\n",
    "    def predict(self, X): \n",
    "        ones = np.atleast_2d(np.ones(X.shape[0]))\n",
    "        y = np.concatenate((ones.T, X), axis=1)\n",
    "        for l in range(0, len(self.weights)):\n",
    "            y = self.activation(np.dot(y, self.weights[l]))\n",
    "        return y\n",
    "\n",
    "nn = NeuralNetwork([2,2,1], activation='tanh')\n",
    "x_train = np.array([[0, 0], \n",
    "                    [0, 1],\n",
    "                    [1, 0],\n",
    "                    [1, 1]])\n",
    "t_train = np.array([0, 1, 1, 0])\n",
    "nn.fit(x_train, t_train)\n",
    "np.set_printoptions(suppress=True)\n",
    "print(np.append(x_train, nn.predict(x_train), axis=1))\n",
    "\n",
    "plt.figure(figsize=(5, 4))\n",
    "plt.scatter(x_train[:, 0], x_train[:, 1], c=t_train)\n",
    "\n",
    "x0, x1 = np.meshgrid(np.linspace(0, 1, 100), np.linspace(0, 1, 100))\n",
    "x_test = np.array([x0, x1]).reshape(2, -1).T\n",
    "levels = np.linspace(0, 1, 5)\n",
    "plt.contourf(x0, x1, np.asarray(nn.predict(x_test)).reshape(100, 100), levels, alpha=0.2)\n",
    "plt.colorbar()\n",
    "plt.show()"
   ]
  }
 ],
 "metadata": {
  "kernelspec": {
   "display_name": "Python 3",
   "language": "python",
   "name": "python3"
  },
  "language_info": {
   "codemirror_mode": {
    "name": "ipython",
    "version": 3
   },
   "file_extension": ".py",
   "mimetype": "text/x-python",
   "name": "python",
   "nbconvert_exporter": "python",
   "pygments_lexer": "ipython3",
   "version": "3.6.7"
  }
 },
 "nbformat": 4,
 "nbformat_minor": 2
}
