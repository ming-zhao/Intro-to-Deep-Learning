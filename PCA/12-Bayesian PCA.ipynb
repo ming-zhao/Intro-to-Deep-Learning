{
 "cells": [
  {
   "cell_type": "markdown",
   "metadata": {},
   "source": [
    "Hinton diagrams of the matrix $W$ in which each element of the matrix is depicted as a square (white for positive and black for negative values) whose area is proportional to the magnitude of that element."
   ]
  },
  {
   "cell_type": "code",
   "execution_count": 1,
   "metadata": {},
   "outputs": [
    {
     "data": {
      "image/png": "[encoded data removed]",
      "text/plain": [
       "<Figure size 1080x1080 with 2 Axes>"
      ]
     },
     "metadata": {},
     "output_type": "display_data"
    }
   ],
   "source": [
    "import sys\n",
    "sys.path.append('../Modules')\n",
    "\n",
    "import matplotlib.pyplot as plt\n",
    "import numpy as np\n",
    "from sklearn import datasets\n",
    "%matplotlib inline\n",
    "\n",
    "from PCA import PCA, BayesianPCA\n",
    "\n",
    "def create_data(sample_size=100, ndim_hidden=1, ndim_observe=2, std=1.):\n",
    "    Z = np.random.normal(size=(sample_size, ndim_hidden))\n",
    "    mu = np.random.uniform(-5, 5, size=(ndim_observe))\n",
    "    W = np.random.uniform(-5, 5, (ndim_hidden, ndim_observe))\n",
    "\n",
    "    X = Z.dot(W) + mu + np.random.normal(scale=std, size=(sample_size, ndim_observe))\n",
    "    return X\n",
    "\n",
    "def hinton(matrix, max_weight=None, ax=None):\n",
    "    \"\"\"Draw Hinton diagram for visualizing a weight matrix.\"\"\"\n",
    "    ax = ax if ax is not None else plt.gca()\n",
    "\n",
    "    if not max_weight:\n",
    "        max_weight = 2 ** np.ceil(np.log(np.abs(matrix).max()) / np.log(2))\n",
    "\n",
    "    ax.patch.set_facecolor('gray')\n",
    "    ax.set_aspect('equal', 'box')\n",
    "    ax.xaxis.set_major_locator(plt.NullLocator())\n",
    "    ax.yaxis.set_major_locator(plt.NullLocator())\n",
    "\n",
    "    for (x, y), w in np.ndenumerate(matrix):\n",
    "        color = 'white' if w > 0 else 'black'\n",
    "        size = np.sqrt(np.abs(w) / max_weight)\n",
    "        rect = plt.Rectangle([y - size / 2, x - size / 2], size, size,\n",
    "                             facecolor=color, edgecolor=color)\n",
    "        ax.add_patch(rect)\n",
    "\n",
    "    ax.autoscale_view()\n",
    "    ax.invert_yaxis()\n",
    "    plt.xlim(-0.5, np.size(matrix, 1) - 0.5)\n",
    "    plt.ylim(-0.5, len(matrix) - 0.5)\n",
    "\n",
    "X = create_data(sample_size=100, ndim_hidden=3, ndim_observe=10, std=1.)\n",
    "pca = PCA(n_components=9)\n",
    "pca.fit(X)\n",
    "bpca = BayesianPCA(n_components=9)\n",
    "bpca.fit(X, initial=\"eigen\")\n",
    "\n",
    "plt.figure(figsize=(15, 15))\n",
    "plt.subplot(1, 2, 1)\n",
    "plt.title(\"PCA\")\n",
    "hinton(pca.W)\n",
    "\n",
    "plt.subplot(1, 2, 2)\n",
    "plt.title(\"Bayesian PCA\")\n",
    "hinton(bpca.W)"
   ]
  }
 ],
 "metadata": {
  "kernelspec": {
   "display_name": "Python 3",
   "language": "python",
   "name": "python3"
  },
  "language_info": {
   "codemirror_mode": {
    "name": "ipython",
    "version": 3
   },
   "file_extension": ".py",
   "mimetype": "text/x-python",
   "name": "python",
   "nbconvert_exporter": "python",
   "pygments_lexer": "ipython3",
   "version": "3.6.7"
  }
 },
 "nbformat": 4,
 "nbformat_minor": 2
}
