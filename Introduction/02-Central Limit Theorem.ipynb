{
 "cells": [
  {
   "cell_type": "code",
   "execution_count": 1,
   "metadata": {
    "colab": {},
    "colab_type": "code",
    "id": "KnlQLuWhs9YC"
   },
   "outputs": [],
   "source": [
    "import numpy as np\n",
    "import scipy.stats as stats\n",
    "import matplotlib.pyplot as plt"
   ]
  },
  {
   "cell_type": "code",
   "execution_count": 2,
   "metadata": {
    "colab": {
     "base_uri": "https://localhost:8080/",
     "height": 269
    },
    "colab_type": "code",
    "executionInfo": {
     "elapsed": 1023,
     "status": "ok",
     "timestamp": 1538012774346,
     "user": {
      "displayName": "Ming Zhao",
      "photoUrl": "",
      "userId": "06292157424562027321"
     },
     "user_tz": 360
    },
    "id": "yD2q8z7itBTu",
    "outputId": "1b3dbf4b-85a4-44e0-ec7d-c0d8b1c2ea69"
   },
   "outputs": [
    {
     "data": {
      "image/png": "[encoded data removed]",
      "text/plain": [
       "<Figure size 864x288 with 3 Axes>"
      ]
     },
     "metadata": {},
     "output_type": "display_data"
    }
   ],
   "source": [
    "plt.figure(figsize=(12, 4))\n",
    "\n",
    "for i, num in enumerate([1, 2, 10]):\n",
    "    plt.subplot(1, 3, i+1)\n",
    "    plt.xlim(0, 1)\n",
    "    plt.ylim(0, 5)\n",
    "    plt.annotate(\"N={}\".format(num), (0.1, 4.5))\n",
    "    sample = 0\n",
    "    for _ in range(num):\n",
    "        sample = sample + np.random.uniform(0, 1, 10000)\n",
    "    plt.hist(sample / num, bins=50, density=True)\n",
    "plt.show()"
   ]
  }
 ],
 "metadata": {
  "colab": {
   "name": "02-Central Limit Theorem.ipynb",
   "provenance": [],
   "version": "0.3.2"
  },
  "kernelspec": {
   "display_name": "Python 3",
   "language": "python",
   "name": "python3"
  },
  "language_info": {
   "codemirror_mode": {
    "name": "ipython",
    "version": 3
   },
   "file_extension": ".py",
   "mimetype": "text/x-python",
   "name": "python",
   "nbconvert_exporter": "python",
   "pygments_lexer": "ipython3",
   "version": "3.6.4"
  }
 },
 "nbformat": 4,
 "nbformat_minor": 1
}
